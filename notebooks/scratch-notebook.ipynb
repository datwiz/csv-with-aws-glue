{
 "cells": [
  {
   "cell_type": "code",
   "execution_count": 5,
   "id": "c618d142-50f4-4832-9032-96f3a6749b1b",
   "metadata": {
    "collapsed": true,
    "jupyter": {
     "outputs_hidden": true
    },
    "tags": []
   },
   "outputs": [
    {
     "name": "stdout",
     "output_type": "stream",
     "text": [
      "Requirement already satisfied: pandas in ./.venv/lib/python3.10/site-packages (1.4.2)\n",
      "Collecting pyarrow\n",
      "  Downloading pyarrow-8.0.0-cp310-cp310-macosx_11_0_arm64.whl (16.2 MB)\n",
      "\u001b[2K     \u001b[38;2;114;156;31m━━━━━━━━━━━━━━━━━━━━━━━━━━━━━━━━━━━━━━━━\u001b[0m \u001b[32m16.2/16.2 MB\u001b[0m \u001b[31m10.2 MB/s\u001b[0m eta \u001b[36m0:00:00\u001b[0mm eta \u001b[36m0:00:01\u001b[0m0:01\u001b[0m:01\u001b[0m\n",
      "\u001b[?25hRequirement already satisfied: pytz>=2020.1 in ./.venv/lib/python3.10/site-packages (from pandas) (2022.1)\n",
      "Requirement already satisfied: numpy>=1.21.0 in ./.venv/lib/python3.10/site-packages (from pandas) (1.22.4)\n",
      "Requirement already satisfied: python-dateutil>=2.8.1 in ./.venv/lib/python3.10/site-packages (from pandas) (2.8.2)\n",
      "Requirement already satisfied: six>=1.5 in ./.venv/lib/python3.10/site-packages (from python-dateutil>=2.8.1->pandas) (1.16.0)\n",
      "Installing collected packages: pyarrow\n",
      "Successfully installed pyarrow-8.0.0\n",
      "\u001b[33mWARNING: You are using pip version 22.0.4; however, version 22.1.2 is available.\n",
      "You should consider upgrading via the '/Users/chris.ottinger/opt/jupyterlab/.venv/bin/python -m pip install --upgrade pip' command.\u001b[0m\u001b[33m\n",
      "\u001b[0mNote: you may need to restart the kernel to use updated packages.\n"
     ]
    }
   ],
   "source": [
    "%pip install pandas pyarrow"
   ]
  },
  {
   "cell_type": "code",
   "execution_count": 18,
   "id": "43ee54d4-154c-4148-9226-e55f996376f7",
   "metadata": {
    "tags": []
   },
   "outputs": [],
   "source": [
    "import pandas as pd\n",
    "import pyarrow.parquet as pq"
   ]
  },
  {
   "cell_type": "code",
   "execution_count": 23,
   "id": "c79e52d2-9beb-48b4-8965-02f49cc19892",
   "metadata": {},
   "outputs": [],
   "source": [
    "pq_df_0 = pd.read_parquet(\"./workspace/all-fields.parquet\")\n",
    "pq_df_1 = pd.read_parquet(\"./workspace/some-empty-fields.parquet\")\n",
    "csv_df_0 = pd.read_csv(\"./workspace/all-fields.csv\",\n",
    "                       header=0,\n",
    "                       low_memory=False,\n",
    "                       dtype=str)\n",
    "csv_df_0.fillna('', inplace=True)\n",
    "csv_df_1 = pd.read_csv(\"./workspace/some-empty-fields.csv\",\n",
    "                       header=0,\n",
    "                       low_memory=False,\n",
    "                       dtype=str)\n",
    "csv_df_1.fillna('', inplace=True)"
   ]
  },
  {
   "cell_type": "code",
   "execution_count": 25,
   "id": "6e4423f8-d336-43b4-a99e-e9f50fa5d2a4",
   "metadata": {},
   "outputs": [
    {
     "data": {
      "text/html": [
       "<div>\n",
       "<style scoped>\n",
       "    .dataframe tbody tr th:only-of-type {\n",
       "        vertical-align: middle;\n",
       "    }\n",
       "\n",
       "    .dataframe tbody tr th {\n",
       "        vertical-align: top;\n",
       "    }\n",
       "\n",
       "    .dataframe thead th {\n",
       "        text-align: right;\n",
       "    }\n",
       "</style>\n",
       "<table border=\"1\" class=\"dataframe\">\n",
       "  <thead>\n",
       "    <tr style=\"text-align: right;\">\n",
       "      <th></th>\n",
       "      <th>name</th>\n",
       "      <th>description</th>\n",
       "      <th>value</th>\n",
       "      <th>updated</th>\n",
       "    </tr>\n",
       "  </thead>\n",
       "  <tbody>\n",
       "    <tr>\n",
       "      <th>0</th>\n",
       "      <td>Anit</td>\n",
       "      <td>primary contributor</td>\n",
       "      <td>50</td>\n",
       "      <td>2022-06-18 13:45:23+1000</td>\n",
       "    </tr>\n",
       "    <tr>\n",
       "      <th>1</th>\n",
       "      <td>Weston</td>\n",
       "      <td>secondary contributor</td>\n",
       "      <td>100</td>\n",
       "      <td>2022-06-18 18:12:49+1000</td>\n",
       "    </tr>\n",
       "  </tbody>\n",
       "</table>\n",
       "</div>"
      ],
      "text/plain": [
       "     name            description value                   updated\n",
       "0    Anit    primary contributor    50  2022-06-18 13:45:23+1000\n",
       "1  Weston  secondary contributor   100  2022-06-18 18:12:49+1000"
      ]
     },
     "metadata": {},
     "output_type": "display_data"
    },
    {
     "data": {
      "text/html": [
       "<div>\n",
       "<style scoped>\n",
       "    .dataframe tbody tr th:only-of-type {\n",
       "        vertical-align: middle;\n",
       "    }\n",
       "\n",
       "    .dataframe tbody tr th {\n",
       "        vertical-align: top;\n",
       "    }\n",
       "\n",
       "    .dataframe thead th {\n",
       "        text-align: right;\n",
       "    }\n",
       "</style>\n",
       "<table border=\"1\" class=\"dataframe\">\n",
       "  <thead>\n",
       "    <tr style=\"text-align: right;\">\n",
       "      <th></th>\n",
       "      <th>name</th>\n",
       "      <th>description</th>\n",
       "      <th>value</th>\n",
       "      <th>updated</th>\n",
       "    </tr>\n",
       "  </thead>\n",
       "  <tbody>\n",
       "    <tr>\n",
       "      <th>0</th>\n",
       "      <td>Anit</td>\n",
       "      <td>None</td>\n",
       "      <td>None</td>\n",
       "      <td>2022-06-18 13:45:23+1000</td>\n",
       "    </tr>\n",
       "    <tr>\n",
       "      <th>1</th>\n",
       "      <td>Weston</td>\n",
       "      <td>None</td>\n",
       "      <td>None</td>\n",
       "      <td>2022-06-18 18:12:49+1000</td>\n",
       "    </tr>\n",
       "  </tbody>\n",
       "</table>\n",
       "</div>"
      ],
      "text/plain": [
       "     name description value                   updated\n",
       "0    Anit        None  None  2022-06-18 13:45:23+1000\n",
       "1  Weston        None  None  2022-06-18 18:12:49+1000"
      ]
     },
     "metadata": {},
     "output_type": "display_data"
    },
    {
     "data": {
      "text/html": [
       "<div>\n",
       "<style scoped>\n",
       "    .dataframe tbody tr th:only-of-type {\n",
       "        vertical-align: middle;\n",
       "    }\n",
       "\n",
       "    .dataframe tbody tr th {\n",
       "        vertical-align: top;\n",
       "    }\n",
       "\n",
       "    .dataframe thead th {\n",
       "        text-align: right;\n",
       "    }\n",
       "</style>\n",
       "<table border=\"1\" class=\"dataframe\">\n",
       "  <thead>\n",
       "    <tr style=\"text-align: right;\">\n",
       "      <th></th>\n",
       "      <th>name</th>\n",
       "      <th>description</th>\n",
       "      <th>value</th>\n",
       "      <th>updated</th>\n",
       "    </tr>\n",
       "  </thead>\n",
       "  <tbody>\n",
       "    <tr>\n",
       "      <th>0</th>\n",
       "      <td>Anit</td>\n",
       "      <td>primary contributor</td>\n",
       "      <td>50</td>\n",
       "      <td>2022-06-18 13:45:23+1000</td>\n",
       "    </tr>\n",
       "    <tr>\n",
       "      <th>1</th>\n",
       "      <td>Weston</td>\n",
       "      <td>secondary contributor</td>\n",
       "      <td>100</td>\n",
       "      <td>2022-06-18 18:12:49+1000</td>\n",
       "    </tr>\n",
       "  </tbody>\n",
       "</table>\n",
       "</div>"
      ],
      "text/plain": [
       "     name            description value                   updated\n",
       "0    Anit    primary contributor    50  2022-06-18 13:45:23+1000\n",
       "1  Weston  secondary contributor   100  2022-06-18 18:12:49+1000"
      ]
     },
     "metadata": {},
     "output_type": "display_data"
    },
    {
     "data": {
      "text/html": [
       "<div>\n",
       "<style scoped>\n",
       "    .dataframe tbody tr th:only-of-type {\n",
       "        vertical-align: middle;\n",
       "    }\n",
       "\n",
       "    .dataframe tbody tr th {\n",
       "        vertical-align: top;\n",
       "    }\n",
       "\n",
       "    .dataframe thead th {\n",
       "        text-align: right;\n",
       "    }\n",
       "</style>\n",
       "<table border=\"1\" class=\"dataframe\">\n",
       "  <thead>\n",
       "    <tr style=\"text-align: right;\">\n",
       "      <th></th>\n",
       "      <th>name</th>\n",
       "      <th>description</th>\n",
       "      <th>value</th>\n",
       "      <th>updated</th>\n",
       "    </tr>\n",
       "  </thead>\n",
       "  <tbody>\n",
       "    <tr>\n",
       "      <th>0</th>\n",
       "      <td>Anit</td>\n",
       "      <td></td>\n",
       "      <td></td>\n",
       "      <td>2022-06-18 13:45:23+1000</td>\n",
       "    </tr>\n",
       "    <tr>\n",
       "      <th>1</th>\n",
       "      <td>Weston</td>\n",
       "      <td></td>\n",
       "      <td></td>\n",
       "      <td>2022-06-18 18:12:49+1000</td>\n",
       "    </tr>\n",
       "  </tbody>\n",
       "</table>\n",
       "</div>"
      ],
      "text/plain": [
       "     name description value                   updated\n",
       "0    Anit                    2022-06-18 13:45:23+1000\n",
       "1  Weston                    2022-06-18 18:12:49+1000"
      ]
     },
     "metadata": {},
     "output_type": "display_data"
    }
   ],
   "source": [
    "display(pq_df_0.head())\n",
    "display(pq_df_1.head())\n",
    "display(csv_df_0.head())\n",
    "display(csv_df_1.head())"
   ]
  },
  {
   "cell_type": "code",
   "execution_count": 26,
   "id": "0163f6cd-755d-4a6c-89a8-cb3e45f8af54",
   "metadata": {},
   "outputs": [
    {
     "data": {
      "text/plain": [
       "name           object\n",
       "description    object\n",
       "value          object\n",
       "updated        object\n",
       "dtype: object"
      ]
     },
     "metadata": {},
     "output_type": "display_data"
    },
    {
     "data": {
      "text/plain": [
       "'---'"
      ]
     },
     "metadata": {},
     "output_type": "display_data"
    },
    {
     "data": {
      "text/plain": [
       "name           object\n",
       "description    object\n",
       "value          object\n",
       "updated        object\n",
       "dtype: object"
      ]
     },
     "metadata": {},
     "output_type": "display_data"
    },
    {
     "data": {
      "text/plain": [
       "'   +++   '"
      ]
     },
     "metadata": {},
     "output_type": "display_data"
    },
    {
     "data": {
      "text/plain": [
       "name           object\n",
       "description    object\n",
       "value          object\n",
       "updated        object\n",
       "dtype: object"
      ]
     },
     "metadata": {},
     "output_type": "display_data"
    },
    {
     "data": {
      "text/plain": [
       "'---'"
      ]
     },
     "metadata": {},
     "output_type": "display_data"
    },
    {
     "data": {
      "text/plain": [
       "name           object\n",
       "description    object\n",
       "value          object\n",
       "updated        object\n",
       "dtype: object"
      ]
     },
     "metadata": {},
     "output_type": "display_data"
    }
   ],
   "source": [
    "display(pq_df_0.dtypes)\n",
    "display('---')\n",
    "display(pq_df_1.dtypes)\n",
    "display('   +++   ')\n",
    "display(csv_df_0.dtypes)\n",
    "display('---')\n",
    "display(csv_df_1.dtypes)"
   ]
  },
  {
   "cell_type": "code",
   "execution_count": 21,
   "id": "82d99e84-30d7-471e-a077-0a776ff93e6f",
   "metadata": {},
   "outputs": [
    {
     "data": {
      "text/plain": [
       "<pyarrow._parquet.FileMetaData object at 0x121b69440>\n",
       "  created_by: parquet-cpp-arrow version 8.0.0\n",
       "  num_columns: 4\n",
       "  num_rows: 2\n",
       "  num_row_groups: 1\n",
       "  format_version: 1.0\n",
       "  serialized_size: 2347"
      ]
     },
     "metadata": {},
     "output_type": "display_data"
    }
   ],
   "source": [
    "parquet_file = pq.ParquetFile('./workspace/all-fields.parquet')\n",
    "\n",
    "display(parquet_file.metadata)"
   ]
  },
  {
   "cell_type": "code",
   "execution_count": null,
   "id": "53b8ae8b-4ae3-4151-a02f-e2bcbe139475",
   "metadata": {},
   "outputs": [],
   "source": []
  }
 ],
 "metadata": {
  "kernelspec": {
   "display_name": "Python 3 (ipykernel)",
   "language": "python",
   "name": "python3"
  },
  "language_info": {
   "codemirror_mode": {
    "name": "ipython",
    "version": 3
   },
   "file_extension": ".py",
   "mimetype": "text/x-python",
   "name": "python",
   "nbconvert_exporter": "python",
   "pygments_lexer": "ipython3",
   "version": "3.10.4"
  }
 },
 "nbformat": 4,
 "nbformat_minor": 5
}
